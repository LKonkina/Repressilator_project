{
 "cells": [
  {
   "cell_type": "code",
   "execution_count": 5,
   "metadata": {},
   "outputs": [],
   "source": [
    "import loica as lc\n",
    "import matplotlib.pyplot as plt"
   ]
  },
  {
   "cell_type": "code",
   "execution_count": null,
   "metadata": {},
   "outputs": [],
   "source": [
    "# node_1 = lc.Strain()"
   ]
  },
  {
   "cell_type": "code",
   "execution_count": 8,
   "metadata": {},
   "outputs": [],
   "source": [
    "# create genetic network that will be within the first strain\n",
    "c4_to_scb2 = lc.GeneticNetwork()\n",
    "\n",
    "# add regulators\n",
    "c4_reg = lc.Regulator(name='C4', degradation_rate=1)\n",
    "scb2_reg = lc.Regulator(name='SCB2', degradation_rate=1)\n",
    "laci_reg = lc.Regulator(name='LacI', degradation_rate=1)\n",
    "\n",
    "c4_to_scb2.add_regulator([c4_reg, scb2_reg, laci_reg])\n",
    "\n",
    "# add reporters\n",
    "mcherry_rep = lc.Reporter(name='mCherry', degradation_rate=1, color='red')\n",
    "c4_to_scb2.add_reporter(mcherry_rep)\n",
    "\n",
    "# add operators\n",
    "c4_laci = lc.Hill1(name='Prhl', input=c4_reg, output=laci_reg, alpha=[0.1, 10000], K=10, n=2)\n",
    "laci_not_scb2 = lc.Hill1(name='Plac', input=laci_reg, output=[scb2_reg, mcherry_rep], alpha=[10000,0.1], K=10, n=2)\n",
    "\n",
    "c4_to_scb2.add_operator([c4_laci, laci_not_scb2])"
   ]
  },
  {
   "cell_type": "code",
   "execution_count": 9,
   "metadata": {},
   "outputs": [
    {
     "data": {
      "image/png": "[encoded data removed]",
      "text/plain": [
       "<Figure size 350x350 with 1 Axes>"
      ]
     },
     "metadata": {},
     "output_type": "display_data"
    }
   ],
   "source": [
    "plt.figure(figsize=(3.5,3.5), dpi=100)\n",
    "c4_to_scb2.draw()\n",
    "# TODO: find out why pictures overlap\n",
    "# TODO: should scb2_reg be encoded as GeneProduct or something similar?"
   ]
  },
  {
   "cell_type": "code",
   "execution_count": null,
   "metadata": {},
   "outputs": [],
   "source": [
    "# add \"wires\" - diffusible molecules that will act as signals between strains\n",
    "# node_1.add_wire([c4_reg, scb2_reg])\n",
    "# create consortium\n",
    "# repr_cons = lc.Consortium(strains=[node_1, node_2, node_3])"
   ]
  }
 ],
 "metadata": {
  "interpreter": {
   "hash": "5a3b552e1f00b069c0e96dcc3c439489a3953ff59f29351d8119914676dca9ff"
  },
  "kernelspec": {
   "display_name": "Python 3.10.4 ('loica')",
   "language": "python",
   "name": "python3"
  },
  "language_info": {
   "codemirror_mode": {
    "name": "ipython",
    "version": 3
   },
   "file_extension": ".py",
   "mimetype": "text/x-python",
   "name": "python",
   "nbconvert_exporter": "python",
   "pygments_lexer": "ipython3",
   "version": "3.10.4"
  },
  "orig_nbformat": 4
 },
 "nbformat": 4,
 "nbformat_minor": 2
}
